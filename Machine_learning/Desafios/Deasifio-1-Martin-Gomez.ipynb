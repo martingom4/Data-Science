{
 "cells": [
  {
   "cell_type": "markdown",
   "metadata": {},
   "source": [
    "### 1. ¿Cuál es la diferencia entre el aprendizaje supervisado y el aprendizaje no supervisado?\n",
    "\n",
    "# Aprendizaje Supervisado\n",
    "Definición: En el aprendizaje supervisado, el modelo se entrena utilizando un conjunto de datos etiquetados. Esto significa que cada ejemplo de entrenamiento viene con una etiqueta o resultado deseado.\n",
    "Proceso:\n",
    "Se proporciona al modelo un conjunto de datos de entrenamiento con entradas y salidas conocidas.\n",
    "El modelo aprende a predecir la salida a partir de la entrada.\n",
    "Se evalúa el rendimiento del modelo utilizando un conjunto de datos de prueba.\n",
    "# Aprendizaje No Supervisado\n",
    "En el aprendizaje no supervisado, el modelo se entrena utilizando un conjunto de datos que no están etiquetados. El modelo intenta encontrar patrones o estructuras en los datos.\n",
    "Proceso:\n",
    "Se proporciona al modelo un conjunto de datos sin etiquetas.\n",
    "El modelo intenta encontrar patrones, agrupaciones o estructuras en los datos.\n",
    "Los resultados se interpretan para obtener información sobre la estructura de los datos"
   ]
  }
 ],
 "metadata": {
  "kernelspec": {
   "display_name": "venv",
   "language": "python",
   "name": "python3"
  },
  "language_info": {
   "name": "python",
   "version": "3.12.8"
  }
 },
 "nbformat": 4,
 "nbformat_minor": 2
}
