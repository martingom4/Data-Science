{
 "cells": [
  {
   "cell_type": "markdown",
   "metadata": {},
   "source": [
    "### 1. ¿Cuál es la diferencia entre el aprendizaje supervisado y el aprendizaje no supervisado?\n",
    "\n",
    "# Aprendizaje Supervisado\n",
    "Definición: En el aprendizaje supervisado, el modelo se entrena utilizando un conjunto de datos etiquetados. Esto significa que cada ejemplo de entrenamiento viene con una etiqueta o resultado deseado.\n",
    "Proceso:\n",
    "Se proporciona al modelo un conjunto de datos de entrenamiento con entradas y salidas conocidas.\n",
    "El modelo aprende a predecir la salida a partir de la entrada.\n",
    "Se evalúa el rendimiento del modelo utilizando un conjunto de datos de prueba.\n",
    "# Aprendizaje No Supervisado\n",
    "En el aprendizaje no supervisado, el modelo se entrena utilizando un conjunto de datos que no están etiquetados. El modelo intenta encontrar patrones o estructuras en los datos.\n",
    "Proceso:\n",
    "Se proporciona al modelo un conjunto de datos sin etiquetas.\n",
    "El modelo intenta encontrar patrones, agrupaciones o estructuras en los datos.\n",
    "Los resultados se interpretan para obtener información sobre la estructura de los datos"
   ]
  },
  {
   "cell_type": "markdown",
   "metadata": {},
   "source": [
    "----------------------------------------------------------------------------------------------------------------------------------------------------------------------------"
   ]
  },
  {
   "cell_type": "markdown",
   "metadata": {},
   "source": [
    "#### 2. En la industria de la salud, a menudo se utiliza el machine learning para predecir la probabilidad de enfermedades o condiciones médicas en función de diferentes variables de entrada, como síntomas, antecedentes médicos y factores de estilo de vida. Imagina que tienes un conjunto de datos que contiene información de pacientes y su diagnóstico (enfermo/no enfermo). ¿Qué tipo de aprendizaje utilizarías para construir un modelo predictivo?\n",
    "\n",
    "Respuesta:\n",
    "\n",
    "Para construir un modelo predictivo en este caso, utilizaria **aprendizaje supervisado**. Esto se debe a que tienes un conjunto de datos etiquetados donde cada paciente tiene una etiqueta de diagnóstico (enfermo/no enfermo). El modelo puede aprender a partir de estos datos etiquetados para predecir el diagnóstico de nuevos pacientes basándose en sus variables de entrada.\n"
   ]
  },
  {
   "cell_type": "markdown",
   "metadata": {},
   "source": [
    "----------------------------------------------------------------------------------------------------------------------------------------------------------------------------"
   ]
  },
  {
   "cell_type": "markdown",
   "metadata": {},
   "source": [
    "\n"
   ]
  }
 ],
 "metadata": {
  "kernelspec": {
   "display_name": "venv",
   "language": "python",
   "name": "python3"
  },
  "language_info": {
   "name": "python",
   "version": "3.12.8"
  }
 },
 "nbformat": 4,
 "nbformat_minor": 2
}
