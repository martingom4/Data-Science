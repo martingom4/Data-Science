{
 "cells": [
  {
   "cell_type": "markdown",
   "metadata": {},
   "source": [
    "<center><h1 color=\"green\">Martin Gomez</h1></center>\n"
   ]
  },
  {
   "cell_type": "code",
   "execution_count": 5,
   "metadata": {},
   "outputs": [],
   "source": [
    "import pandas as pd \n",
    "import numpy as np\n",
    "import seaborn as sns\n",
    "from scipy import stats\n"
   ]
  },
  {
   "cell_type": "code",
   "execution_count": 6,
   "metadata": {},
   "outputs": [
    {
     "data": {
      "text/html": [
       "<div>\n",
       "<style scoped>\n",
       "    .dataframe tbody tr th:only-of-type {\n",
       "        vertical-align: middle;\n",
       "    }\n",
       "\n",
       "    .dataframe tbody tr th {\n",
       "        vertical-align: top;\n",
       "    }\n",
       "\n",
       "    .dataframe thead th {\n",
       "        text-align: right;\n",
       "    }\n",
       "</style>\n",
       "<table border=\"1\" class=\"dataframe\">\n",
       "  <thead>\n",
       "    <tr style=\"text-align: right;\">\n",
       "      <th></th>\n",
       "      <th>height</th>\n",
       "      <th>weight</th>\n",
       "      <th>male</th>\n",
       "      <th>earn</th>\n",
       "      <th>earnk</th>\n",
       "      <th>ethnicity</th>\n",
       "      <th>education</th>\n",
       "      <th>mother_education</th>\n",
       "      <th>father_education</th>\n",
       "      <th>walk</th>\n",
       "      <th>exercise</th>\n",
       "      <th>smokenow</th>\n",
       "      <th>tense</th>\n",
       "      <th>angry</th>\n",
       "      <th>age</th>\n",
       "    </tr>\n",
       "  </thead>\n",
       "  <tbody>\n",
       "    <tr>\n",
       "      <th>0</th>\n",
       "      <td>74</td>\n",
       "      <td>210.0</td>\n",
       "      <td>1</td>\n",
       "      <td>50000.0</td>\n",
       "      <td>50.0</td>\n",
       "      <td>White</td>\n",
       "      <td>16.0</td>\n",
       "      <td>16.0</td>\n",
       "      <td>16.0</td>\n",
       "      <td>3</td>\n",
       "      <td>3</td>\n",
       "      <td>2.0</td>\n",
       "      <td>0.0</td>\n",
       "      <td>0.0</td>\n",
       "      <td>45</td>\n",
       "    </tr>\n",
       "    <tr>\n",
       "      <th>1</th>\n",
       "      <td>66</td>\n",
       "      <td>125.0</td>\n",
       "      <td>0</td>\n",
       "      <td>60000.0</td>\n",
       "      <td>60.0</td>\n",
       "      <td>White</td>\n",
       "      <td>16.0</td>\n",
       "      <td>16.0</td>\n",
       "      <td>16.0</td>\n",
       "      <td>6</td>\n",
       "      <td>5</td>\n",
       "      <td>1.0</td>\n",
       "      <td>0.0</td>\n",
       "      <td>0.0</td>\n",
       "      <td>58</td>\n",
       "    </tr>\n",
       "    <tr>\n",
       "      <th>2</th>\n",
       "      <td>64</td>\n",
       "      <td>126.0</td>\n",
       "      <td>0</td>\n",
       "      <td>30000.0</td>\n",
       "      <td>30.0</td>\n",
       "      <td>White</td>\n",
       "      <td>16.0</td>\n",
       "      <td>16.0</td>\n",
       "      <td>16.0</td>\n",
       "      <td>8</td>\n",
       "      <td>1</td>\n",
       "      <td>2.0</td>\n",
       "      <td>1.0</td>\n",
       "      <td>1.0</td>\n",
       "      <td>29</td>\n",
       "    </tr>\n",
       "    <tr>\n",
       "      <th>3</th>\n",
       "      <td>65</td>\n",
       "      <td>200.0</td>\n",
       "      <td>0</td>\n",
       "      <td>25000.0</td>\n",
       "      <td>25.0</td>\n",
       "      <td>White</td>\n",
       "      <td>17.0</td>\n",
       "      <td>17.0</td>\n",
       "      <td>NaN</td>\n",
       "      <td>8</td>\n",
       "      <td>1</td>\n",
       "      <td>2.0</td>\n",
       "      <td>0.0</td>\n",
       "      <td>0.0</td>\n",
       "      <td>57</td>\n",
       "    </tr>\n",
       "    <tr>\n",
       "      <th>4</th>\n",
       "      <td>63</td>\n",
       "      <td>110.0</td>\n",
       "      <td>0</td>\n",
       "      <td>50000.0</td>\n",
       "      <td>50.0</td>\n",
       "      <td>Other</td>\n",
       "      <td>16.0</td>\n",
       "      <td>16.0</td>\n",
       "      <td>16.0</td>\n",
       "      <td>5</td>\n",
       "      <td>6</td>\n",
       "      <td>2.0</td>\n",
       "      <td>0.0</td>\n",
       "      <td>0.0</td>\n",
       "      <td>91</td>\n",
       "    </tr>\n",
       "  </tbody>\n",
       "</table>\n",
       "</div>"
      ],
      "text/plain": [
       "   height  weight  male     earn  earnk ethnicity  education  \\\n",
       "0      74   210.0     1  50000.0   50.0     White       16.0   \n",
       "1      66   125.0     0  60000.0   60.0     White       16.0   \n",
       "2      64   126.0     0  30000.0   30.0     White       16.0   \n",
       "3      65   200.0     0  25000.0   25.0     White       17.0   \n",
       "4      63   110.0     0  50000.0   50.0     Other       16.0   \n",
       "\n",
       "   mother_education  father_education  walk  exercise  smokenow  tense  angry  \\\n",
       "0              16.0              16.0     3         3       2.0    0.0    0.0   \n",
       "1              16.0              16.0     6         5       1.0    0.0    0.0   \n",
       "2              16.0              16.0     8         1       2.0    1.0    1.0   \n",
       "3              17.0               NaN     8         1       2.0    0.0    0.0   \n",
       "4              16.0              16.0     5         6       2.0    0.0    0.0   \n",
       "\n",
       "   age  \n",
       "0   45  \n",
       "1   58  \n",
       "2   29  \n",
       "3   57  \n",
       "4   91  "
      ]
     },
     "execution_count": 6,
     "metadata": {},
     "output_type": "execute_result"
    }
   ],
   "source": [
    "data = pd.read_csv(\"../Apoyo_desafio/earnings.csv\")\n",
    "data.head()\n"
   ]
  },
  {
   "cell_type": "markdown",
   "metadata": {},
   "source": [
    "\n",
    "1. Considerando las variables earn, height y age, vamos a suponer que nuestro dataset fuera una población completa. (Prepara los datos adecuadamente).\n",
    "\n",
    "Realiza 5 pruebas con muestras de tamaño n =25,encadacaso,conniveles\n",
    "de significancia diferentes pero inferiores a 0,1,paraconfirmarorechazarlas\n",
    "siguientes hipótesisconsiderandolasalternativas.Creaparaellounafórmula\n",
    "que reciba los parámetros adecuados y responda \"con nivel deconfianzadel\n",
    "...%,seaceptalahipótesisnula/alternativa\".\n"
   ]
  },
  {
   "cell_type": "code",
   "execution_count": 7,
   "metadata": {},
   "outputs": [],
   "source": [
    "def prueba_hipotesis(variable, valor_esperado, tipo_prueba):  # Definición de la función para pruebas de hipótesis\n",
    "    # Extracción de los datos de la variable, eliminando valores nulos\n",
    "    muestra_datos = data[variable].dropna()\n",
    "    \n",
    "    # Definir nivel de significancia (alfa) aleatorio entre 0.01 y 0.1\n",
    "    alfa = round(np.random.uniform(0.01, 0.1), 2)\n",
    "    nivel_confianza = 100 * (1 - alfa)\n",
    "    \n",
    "    # Selección aleatoria de una muestra de 25 elementos\n",
    "    muestra_seleccionada = np.random.choice(muestra_datos, 25)\n",
    "    \n",
    "    # Realizar la prueba de hipótesis t de una muestra\n",
    "    estadistico_t, valor_p = stats.ttest_1samp(muestra_seleccionada, valor_esperado, alternative=tipo_prueba)\n",
    "    \n",
    "    # Determinar si se rechaza o no la hipótesis nula\n",
    "    if valor_p < alfa:\n",
    "        if tipo_prueba == 'two-side':\n",
    "            print(f\"A nivel de confianza del {nivel_confianza}%, se rechaza la hipótesis nula: la media difiere de {valor_esperado}\")\n",
    "        elif tipo_prueba == 'greater':\n",
    "            print(f\"A nivel de confianza del {nivel_confianza}%, se rechaza la hipótesis nula: la media es mayor que {valor_esperado}\")\n",
    "        elif tipo_prueba == 'less':\n",
    "            print(f\"A nivel de confianza del {nivel_confianza}%, se rechaza la hipótesis nula: la media es menor que {valor_esperado}\")\n",
    "    else:\n",
    "        print(f\"A nivel de confianza del {nivel_confianza}%, no se puede rechazar la hipótesis nula: la media es igual a {valor_esperado}\")\n",
    "    \n",
    "    # Imprimir resultados de la prueba\n",
    "    print(f\"Estadístico t: {estadistico_t}\")\n",
    "    print(f\"Valor p: {valor_p}\")\n",
    "    print('\\n')\n",
    "\n"
   ]
  },
  {
   "cell_type": "code",
   "execution_count": 8,
   "metadata": {},
   "outputs": [
    {
     "data": {
      "text/plain": [
       "dict_items([('earn', [[20000, 'two-sided'], [35000, 'two-sided'], [25000, 'greater'], [32000, 'less']]), ('height', [[55, 'two-sided'], [68, 'two-sided'], [63, 'greater'], [70, 'less']]), ('age', [[44, 'two-sided'], [56, 'two-sided'], [51, 'greater'], [62, 'less']])])"
      ]
     },
     "execution_count": 8,
     "metadata": {},
     "output_type": "execute_result"
    }
   ],
   "source": [
    "casos={'earn':[[20000,'two-sided'],[35000,'two-sided'],[25000,'greater'],[32000,'less']],\n",
    "       'height':[[55,'two-sided'],[68,'two-sided'],[63,'greater'],[70,'less']],\n",
    "       'age':[[44,'two-sided'],[56,'two-sided'],[51,'greater'],[62,'less']]}\n",
    "casos.items()"
   ]
  },
  {
   "cell_type": "code",
   "execution_count": 9,
   "metadata": {},
   "outputs": [
    {
     "name": "stdout",
     "output_type": "stream",
     "text": [
      "Variable: earn\n",
      "A nivel de confianza del 96.0%, no se puede rechazar la hipótesis nula: la media es igual a 20000\n",
      "Estadístico t: 2.088511370248027\n",
      "Valor p: 0.04753463816914463\n",
      "\n",
      "\n",
      "Estadístico t: -5.473787614299608\n",
      "Valor p: 1.258844474173549e-05\n",
      "\n",
      "\n",
      "A nivel de confianza del 96.0%, no se puede rechazar la hipótesis nula: la media es igual a 25000\n",
      "Estadístico t: -1.9991966857961387\n",
      "Valor p: 0.9714838635865981\n",
      "\n",
      "\n",
      "A nivel de confianza del 99.0%, se rechaza la hipótesis nula: la media es menor que 32000\n",
      "Estadístico t: -9.080141248443045\n",
      "Valor p: 1.5626230011640134e-09\n",
      "\n",
      "\n",
      "Variable: height\n",
      "Estadístico t: 11.697964622551444\n",
      "Valor p: 2.114683093843944e-11\n",
      "\n",
      "\n",
      "Estadístico t: -2.897828188030372\n",
      "Valor p: 0.007900397462897314\n",
      "\n",
      "\n",
      "A nivel de confianza del 95.0%, se rechaza la hipótesis nula: la media es mayor que 63\n",
      "Estadístico t: 4.469860123035462\n",
      "Valor p: 7.99563518533415e-05\n",
      "\n",
      "\n",
      "A nivel de confianza del 93.0%, se rechaza la hipótesis nula: la media es menor que 70\n",
      "Estadístico t: -2.964706059835618\n",
      "Valor p: 0.0033737667880441476\n",
      "\n",
      "\n",
      "Variable: age\n",
      "A nivel de confianza del 91.0%, no se puede rechazar la hipótesis nula: la media es igual a 44\n",
      "Estadístico t: -0.3057180654551363\n",
      "Valor p: 0.7624553592690343\n",
      "\n",
      "\n",
      "Estadístico t: -3.0166941404968712\n",
      "Valor p: 0.005964202679108871\n",
      "\n",
      "\n",
      "A nivel de confianza del 95.0%, no se puede rechazar la hipótesis nula: la media es igual a 51\n",
      "Estadístico t: -3.6463640589391035\n",
      "Valor p: 0.9993595852725562\n",
      "\n",
      "\n",
      "A nivel de confianza del 93.0%, se rechaza la hipótesis nula: la media es menor que 62\n",
      "Estadístico t: -4.880563709318606\n",
      "Valor p: 2.8138921548048447e-05\n",
      "\n",
      "\n"
     ]
    }
   ],
   "source": [
    "for key, values in casos.items():\n",
    "    print(f\"Variable: {key}\")\n",
    "    for value in values:\n",
    "        prueba_hipotesis(key, value[0], value[1])  # Llamar a la nueva función\n"
   ]
  },
  {
   "cell_type": "markdown",
   "metadata": {},
   "source": [
    "b. Calcula la media poblacional para cada variable. ¿Son correctos los resultados obtenidos por tus pruebas? Verifica."
   ]
  },
  {
   "cell_type": "code",
   "execution_count": 10,
   "metadata": {},
   "outputs": [
    {
     "name": "stdout",
     "output_type": "stream",
     "text": [
      "21147.296255506608\n",
      "66.56883259911895\n",
      "42.934471365638764\n"
     ]
    }
   ],
   "source": [
    "media_earn=np.mean(data['earn'])\n",
    "media_height=np.mean(data['height'])\n",
    "media_age=np.mean(data['age'])\n",
    "\n",
    "print(media_earn)\n",
    "print(media_height)\n",
    "print(media_age)"
   ]
  },
  {
   "cell_type": "markdown",
   "metadata": {},
   "source": [
    "2. Crea una función que estime la proporción de hombres en el dataset, considerando una muestra de 50 individuos, con niveles de significancia de 0,05 y 0,01. Escribe con palabras tus resultados ejecutar la función e interpreta. Compara con la proporción real."
   ]
  },
  {
   "cell_type": "code",
   "execution_count": 19,
   "metadata": {},
   "outputs": [
    {
     "name": "stdout",
     "output_type": "stream",
     "text": [
      "Intervalo de confianza del 95.0% para la proporción de hombres en la muestra:\n",
      "(0.28319507547452183, 0.5568049245254781)\n",
      "Proporción en la población: 0.3717\n"
     ]
    }
   ],
   "source": [
    "import statsmodels.api as sm\n",
    "\n",
    "\n",
    "# Limpiar los datos eliminando los valores nulos\n",
    "hombres = data['male'].dropna()\n",
    "\n",
    "# Calcular el total de hombres y la población total\n",
    "tot_hombres = np.count_nonzero(hombres)\n",
    "pobl = len(hombres)\n",
    "\n",
    "# Proporción de hombres en la población\n",
    "prop_pobl = tot_hombres / pobl\n",
    "\n",
    "# Selección de una muestra aleatoria de 50\n",
    "muestra = np.random.choice(hombres, 50)\n",
    "\n",
    "# Contar la cantidad de hombres en la muestra\n",
    "num_hombres_muestra = np.count_nonzero(muestra)\n",
    "\n",
    "# Proporción muestral de hombres en la muestra\n",
    "proporcion_muestral = num_hombres_muestra / 50\n",
    "\n",
    "# Nivel de confianza\n",
    "confianza = 0.95\n",
    "\n",
    "# Calcular el intervalo de confianza utilizando statsmodels\n",
    "intervalo_confianza = sm.stats.proportion_confint(num_hombres_muestra, 50, alpha=1-confianza)\n",
    "\n",
    "# Imprimir el intervalo de confianza y la proporción poblacional\n",
    "print(f\"Intervalo de confianza del {confianza * 100}% para la proporción de hombres en la muestra:\")\n",
    "print(f\"({intervalo_confianza[0]}, {intervalo_confianza[1]})\")\n",
    "print(f\"Proporción en la población: {prop_pobl:.4f}\")\n"
   ]
  },
  {
   "cell_type": "markdown",
   "metadata": {},
   "source": [
    "3. Considerando el dataset como una muestra, verifica si el género (male=1 significa \"hombre”) influye sobre el sueldo “earn” de las personas. Explica y justifica tu procedimiento.\n",
    "\n",
    "La hipótesis nula corresponde a que no hay influencia, es decir, que las medias no son estadísticamente significativas."
   ]
  },
  {
   "cell_type": "code",
   "execution_count": 19,
   "metadata": {},
   "outputs": [
    {
     "name": "stdout",
     "output_type": "stream",
     "text": [
      "Resultado: Se rechaza la hipótesis nula\n",
      "Valor t: 11.86459381795286\n",
      "Valor p: 2.7373648004575493e-30\n"
     ]
    }
   ],
   "source": [
    "# Filtrar los datos para obtener los psueldos de hombres y mujeres\n",
    "sueldos_h = data[data[\"male\"] == 1][\"earn\"]\n",
    "sueldos_m = data[data[\"male\"] == 0][\"earn\"]\n",
    "\n",
    "# Eliminar filas con valores nulos en los datos de peso corporal\n",
    "sueldos_h = sueldos_h.dropna()\n",
    "sueldos_m = sueldos_m.dropna()\n",
    "\n",
    "# Realizar una prueba de hipótesis (prueba t de muestras independientes)\n",
    "t_stat, p_value = stats.ttest_ind(sueldos_h, sueldos_m, equal_var=False)\n",
    "\n",
    "# Nivel de significancia (alfa)\n",
    "alpha = 0.05\n",
    "\n",
    "# Comprobar si el valor p es menor que alfa para rechazar la hipótesis nula\n",
    "if p_value < alpha:\n",
    "    print(\"Resultado: Se rechaza la hipótesis nula\")\n",
    "else:\n",
    "    print(\"Resultado: No se rechaza la hipótesis nula\")\n",
    "\n",
    "# Imprimir el valor t y el valor p\n",
    "print(f\"Valor t: {t_stat}\")\n",
    "print(f\"Valor p: {p_value}\")\n"
   ]
  }
 ],
 "metadata": {
  "kernelspec": {
   "display_name": "venv",
   "language": "python",
   "name": "python3"
  },
  "language_info": {
   "codemirror_mode": {
    "name": "ipython",
    "version": 3
   },
   "file_extension": ".py",
   "mimetype": "text/x-python",
   "name": "python",
   "nbconvert_exporter": "python",
   "pygments_lexer": "ipython3",
   "version": "3.12.6"
  }
 },
 "nbformat": 4,
 "nbformat_minor": 2
}
